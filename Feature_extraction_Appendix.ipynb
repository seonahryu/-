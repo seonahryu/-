{
  "nbformat": 4,
  "nbformat_minor": 0,
  "metadata": {
    "colab": {
      "provenance": []
    },
    "kernelspec": {
      "name": "python3",
      "display_name": "Python 3"
    },
    "language_info": {
      "name": "python"
    }
  },
  "cells": [
    {
      "cell_type": "markdown",
      "source": [
        "# Feature extraction (text)\n",
        "\n",
        "컴퓨터는 숫자로 모든 것을 연산\n",
        "\n",
        "\n",
        "=> 그럼 텍스트, 이미지 등 비정형 데이터를 수치화 해줘야 합니다.\n",
        "\n",
        "\n",
        "텍스트 같은 것을 어떻게 수치화를 시킬 수 있을까?\n",
        "\n",
        "In machine learning,\n",
        "\n",
        "1. Counvectorizer (BoW)\n",
        "\n",
        "2. TF-IDF\n",
        "\n",
        "3. word2vec\n",
        "\n",
        "(co-occurrence, GloVe, fastText...)"
      ],
      "metadata": {
        "id": "wbRcMQj266C0"
      }
    },
    {
      "cell_type": "code",
      "source": [
        "from google.colab import drive\n",
        "drive.mount('/content/drive')"
      ],
      "metadata": {
        "colab": {
          "base_uri": "https://localhost:8080/"
        },
        "id": "9L4ckhHJV3YF",
        "outputId": "e5e09647-3e33-4fe5-e4c1-f0f145ce88cc"
      },
      "execution_count": null,
      "outputs": [
        {
          "output_type": "stream",
          "name": "stdout",
          "text": [
            "Mounted at /content/drive\n"
          ]
        }
      ]
    },
    {
      "cell_type": "markdown",
      "source": [
        "# 1. CountVectorizer (bag of words = BoW)"
      ],
      "metadata": {
        "id": "TqjCrfdD6r-H"
      }
    },
    {
      "cell_type": "code",
      "source": [
        "from sklearn.feature_extraction.text import CountVectorizer"
      ],
      "metadata": {
        "id": "OEVW92vOYqwo"
      },
      "execution_count": null,
      "outputs": []
    },
    {
      "cell_type": "code",
      "source": [
        "corpus = [\n",
        "'This is the first document.',\n",
        "'This document is the second document.',\n",
        "'And this is the third one.',\n",
        "'Is this the first document?',\n",
        "]"
      ],
      "metadata": {
        "id": "VXa_dDCHzXw0"
      },
      "execution_count": null,
      "outputs": []
    },
    {
      "cell_type": "code",
      "source": [
        "vectorizer1 = CountVectorizer(stop_words='english')\n",
        "# 'stop_words' 에 포함되어 있는 단어 제거하여 데이터 처리 -> 제거된 단어는 중요도 낮음\n",
        "vectorizer2 = CountVectorizer()"
      ],
      "metadata": {
        "id": "kodecszE1bhr"
      },
      "execution_count": null,
      "outputs": []
    },
    {
      "cell_type": "code",
      "source": [
        "x_feature1 = vectorizer1.fit_transform(corpus)\n",
        "x_feature2 = vectorizer2.fit_transform(corpus)\n",
        "# fit(학습시키고)_transform(적용) -> 텍스트 데이터를 수치로 변환"
      ],
      "metadata": {
        "id": "O57SMn_M1k9p"
      },
      "execution_count": null,
      "outputs": []
    },
    {
      "cell_type": "code",
      "source": [
        "print(\"stop words 적용: \", vectorizer1.get_feature_names_out())\n",
        "print(\"stop words 미적용: \", vectorizer2.get_feature_names_out())\n",
        "# 말뭉치 안에 어떤 단어가 있는지 알 수 O"
      ],
      "metadata": {
        "colab": {
          "base_uri": "https://localhost:8080/"
        },
        "id": "pT28-zeb1qfr",
        "outputId": "b0dd2cc6-56e7-4f15-b809-cd933da67012"
      },
      "execution_count": null,
      "outputs": [
        {
          "output_type": "stream",
          "name": "stdout",
          "text": [
            "stop words 적용:  ['document' 'second']\n",
            "stop words 미적용:  ['and' 'document' 'first' 'is' 'one' 'second' 'the' 'third' 'this']\n"
          ]
        }
      ]
    },
    {
      "cell_type": "code",
      "source": [
        "print(\"vectorizer1.vocabulary_\", vectorizer1.vocabulary_)\n",
        "print(\"vectorizer2.vocabulary_\", vectorizer2.vocabulary_)\n",
        "# 각각의 단어가 어떤 숫자와 매칭되었는지 알 수 O"
      ],
      "metadata": {
        "colab": {
          "base_uri": "https://localhost:8080/"
        },
        "id": "RG5ng2NWWhLz",
        "outputId": "8f300b4c-33c0-45e6-8b2d-6ffbbc8cc438"
      },
      "execution_count": null,
      "outputs": [
        {
          "output_type": "stream",
          "name": "stdout",
          "text": [
            "vectorizer1.vocabulary_ {'document': 0, 'second': 1}\n",
            "vectorizer2.vocabulary_ {'this': 8, 'is': 3, 'the': 6, 'first': 2, 'document': 1, 'second': 5, 'and': 0, 'third': 7, 'one': 4}\n"
          ]
        }
      ]
    },
    {
      "cell_type": "code",
      "source": [
        "print(x_feature1.toarray())\n",
        "# x_feature1 넘파이 형태로 정렬\n",
        "# 첫번째 문장에서 'document(0)' 1번 등장, 'second(1)' 0번 등장 -> [1 0]\n",
        "print(\"x_feature1.shape\", x_feature1.shape)\n",
        "# 말뭉치 크기(4개의 텍스트 데이터) 4 / 단어수 2\n",
        "\n",
        "print()\n",
        "print(\"*\"*50)\n",
        "print()\n",
        "\n",
        "print(x_feature2.toarray())\n",
        "print(\"x_feature2.shape\", x_feature2.shape)\n",
        "# 말뭉치 크기(4개의 텍스트 데이터) 4 / 단어수 9"
      ],
      "metadata": {
        "colab": {
          "base_uri": "https://localhost:8080/"
        },
        "id": "9JNzIZWa1rxP",
        "outputId": "24962768-1c47-4f89-be1b-8ea8ec402da3"
      },
      "execution_count": null,
      "outputs": [
        {
          "output_type": "stream",
          "name": "stdout",
          "text": [
            "[[1 0]\n",
            " [2 1]\n",
            " [0 0]\n",
            " [1 0]]\n",
            "x_feature1.shape (4, 2)\n",
            "\n",
            "**************************************************\n",
            "\n",
            "[[0 1 1 1 0 0 1 0 1]\n",
            " [0 2 0 1 0 1 1 0 1]\n",
            " [1 0 0 1 1 0 1 1 1]\n",
            " [0 1 1 1 0 0 1 0 1]]\n",
            "x_feature2.shape (4, 9)\n"
          ]
        }
      ]
    },
    {
      "cell_type": "markdown",
      "source": [
        "# 2. TfidfVectorizer (Term Frequency - Inverse Document Frequency = TF-IDF)"
      ],
      "metadata": {
        "id": "lbWE5BB9_KaX"
      }
    },
    {
      "cell_type": "code",
      "source": [
        "from sklearn.feature_extraction.text import TfidfVectorizer"
      ],
      "metadata": {
        "id": "z6DmoVNX2YNd"
      },
      "execution_count": null,
      "outputs": []
    },
    {
      "cell_type": "code",
      "source": [
        "corpus = [\n",
        "'This is the first document.',\n",
        "'This document is the second document.',\n",
        "'And this is the third one.',\n",
        "'Is this the first document?',\n",
        "]"
      ],
      "metadata": {
        "id": "X-vi72Xt_q8W"
      },
      "execution_count": null,
      "outputs": []
    },
    {
      "cell_type": "code",
      "source": [
        "tfidf_vectorizer1 = TfidfVectorizer(stop_words='english')\n",
        "tfidf_vectorizer2 = TfidfVectorizer()"
      ],
      "metadata": {
        "id": "IKGRjr-1A_Df"
      },
      "execution_count": null,
      "outputs": []
    },
    {
      "cell_type": "code",
      "source": [
        "x_tfidf_feature1 = tfidf_vectorizer1.fit_transform(corpus)\n",
        "x_tfidf_feature2 = tfidf_vectorizer2.fit_transform(corpus)"
      ],
      "metadata": {
        "id": "5RoX8-OKA_Fk"
      },
      "execution_count": null,
      "outputs": []
    },
    {
      "cell_type": "code",
      "source": [
        "print(\"stop words 적용: \", tfidf_vectorizer1.get_feature_names_out())\n",
        "print(\"stop words 미적용: \", tfidf_vectorizer2.get_feature_names_out())"
      ],
      "metadata": {
        "colab": {
          "base_uri": "https://localhost:8080/"
        },
        "id": "V09syp6fgu6P",
        "outputId": "4722b6bb-3dff-4568-d464-c190efadd442"
      },
      "execution_count": null,
      "outputs": [
        {
          "output_type": "stream",
          "name": "stdout",
          "text": [
            "stop words 적용:  ['document' 'second']\n",
            "stop words 미적용:  ['and' 'document' 'first' 'is' 'one' 'second' 'the' 'third' 'this']\n"
          ]
        }
      ]
    },
    {
      "cell_type": "code",
      "source": [
        "print(\"tfidf_vectorizer1.vocabulary_\", tfidf_vectorizer1.vocabulary_)\n",
        "print(\"tfidf_vectorizer2.vocabulary_\", tfidf_vectorizer2.vocabulary_)"
      ],
      "metadata": {
        "colab": {
          "base_uri": "https://localhost:8080/"
        },
        "id": "_S1hlaq2gvDG",
        "outputId": "274e0f5c-9bfc-46c7-98ea-20dab840f0e7"
      },
      "execution_count": null,
      "outputs": [
        {
          "output_type": "stream",
          "name": "stdout",
          "text": [
            "tfidf_vectorizer1.vocabulary_ {'document': 0, 'second': 1}\n",
            "tfidf_vectorizer2.vocabulary_ {'this': 8, 'is': 3, 'the': 6, 'first': 2, 'document': 1, 'second': 5, 'and': 0, 'third': 7, 'one': 4}\n"
          ]
        }
      ]
    },
    {
      "cell_type": "code",
      "source": [
        "print(x_tfidf_feature1.toarray())\n",
        "# 빈도 뿐만 아니라 가중치 곱해줘서 float 형태의 값\n",
        "print(\"x_tfidf_feature1.shape\", x_tfidf_feature1.shape)\n",
        "\n",
        "print()\n",
        "print(\"*\"*50)\n",
        "print()\n",
        "\n",
        "print(x_tfidf_feature2.toarray())\n",
        "print(\"x_tfidf_feature2.shape\", x_tfidf_feature2.shape)"
      ],
      "metadata": {
        "colab": {
          "base_uri": "https://localhost:8080/"
        },
        "id": "yRQYcJkLgvFJ",
        "outputId": "d7d15b44-35cb-44ea-c966-34efe8c4a65d"
      },
      "execution_count": null,
      "outputs": [
        {
          "output_type": "stream",
          "name": "stdout",
          "text": [
            "[[1.         0.        ]\n",
            " [0.78722298 0.61666846]\n",
            " [0.         0.        ]\n",
            " [1.         0.        ]]\n",
            "x_tfidf_feature1.shape (4, 2)\n",
            "\n",
            "**************************************************\n",
            "\n",
            "[[0.         0.46979139 0.58028582 0.38408524 0.         0.\n",
            "  0.38408524 0.         0.38408524]\n",
            " [0.         0.6876236  0.         0.28108867 0.         0.53864762\n",
            "  0.28108867 0.         0.28108867]\n",
            " [0.51184851 0.         0.         0.26710379 0.51184851 0.\n",
            "  0.26710379 0.51184851 0.26710379]\n",
            " [0.         0.46979139 0.58028582 0.38408524 0.         0.\n",
            "  0.38408524 0.         0.38408524]]\n",
            "x_tfidf_feature2.shape (4, 9)\n"
          ]
        }
      ]
    },
    {
      "cell_type": "markdown",
      "source": [
        "# 3. Word2vec"
      ],
      "metadata": {
        "id": "B37TqFDBA-ck"
      }
    },
    {
      "cell_type": "markdown",
      "source": [
        "사전학습을 통해서 단어 자체의 특징을 파악하고 이를 기반으로 벡터화"
      ],
      "metadata": {
        "id": "MJXqjXeKqHEb"
      }
    },
    {
      "cell_type": "code",
      "source": [
        "!pip install nltk"
      ],
      "metadata": {
        "colab": {
          "base_uri": "https://localhost:8080/"
        },
        "id": "HoqJIqpOh4yH",
        "outputId": "ca4e68a2-5063-40a0-c922-72d30b18e5eb"
      },
      "execution_count": null,
      "outputs": [
        {
          "output_type": "stream",
          "name": "stdout",
          "text": [
            "Looking in indexes: https://pypi.org/simple, https://us-python.pkg.dev/colab-wheels/public/simple/\n",
            "Requirement already satisfied: nltk in /usr/local/lib/python3.9/dist-packages (3.7)\n",
            "Requirement already satisfied: joblib in /usr/local/lib/python3.9/dist-packages (from nltk) (1.1.1)\n",
            "Requirement already satisfied: click in /usr/local/lib/python3.9/dist-packages (from nltk) (8.1.3)\n",
            "Requirement already satisfied: regex>=2021.8.3 in /usr/local/lib/python3.9/dist-packages (from nltk) (2022.6.2)\n",
            "Requirement already satisfied: tqdm in /usr/local/lib/python3.9/dist-packages (from nltk) (4.65.0)\n"
          ]
        }
      ]
    },
    {
      "cell_type": "code",
      "source": [
        "import nltk\n",
        "nltk.download('movie_reviews')\n",
        "nltk.download('punkt')\n",
        "# nltk에 내장되어 있는 데이터\n",
        "\n",
        "# GoogleNews-vectors-negative300.bin (3.64GB)"
      ],
      "metadata": {
        "colab": {
          "base_uri": "https://localhost:8080/"
        },
        "id": "NTDfxxDSt9j8",
        "outputId": "9d536263-59b2-4761-f518-1180aeff0941"
      },
      "execution_count": null,
      "outputs": [
        {
          "output_type": "stream",
          "name": "stderr",
          "text": [
            "[nltk_data] Downloading package movie_reviews to /root/nltk_data...\n",
            "[nltk_data]   Package movie_reviews is already up-to-date!\n",
            "[nltk_data] Downloading package punkt to /root/nltk_data...\n",
            "[nltk_data]   Package punkt is already up-to-date!\n"
          ]
        },
        {
          "output_type": "execute_result",
          "data": {
            "text/plain": [
              "True"
            ]
          },
          "metadata": {},
          "execution_count": 42
        }
      ]
    },
    {
      "cell_type": "code",
      "source": [
        "from nltk.corpus import movie_reviews\n",
        "\n",
        "sentences = [sentence for sentence in movie_reviews.sents()]\n",
        "print(\"데이터의 개수 : \", len(sentences))"
      ],
      "metadata": {
        "colab": {
          "base_uri": "https://localhost:8080/"
        },
        "id": "tqxBQeJXt_Zg",
        "outputId": "3fee0484-f5f8-44ef-d934-abae02a8a1d4"
      },
      "execution_count": null,
      "outputs": [
        {
          "output_type": "stream",
          "name": "stdout",
          "text": [
            "데이터의 개수 :  65258\n"
          ]
        }
      ]
    },
    {
      "cell_type": "code",
      "source": [
        "# 특징은 이전의 feature extraction은 string 타입으로 그대로 들어갔지만, word2vec은 문장이 분리된 리스트 형식으로 되어있다.\n",
        "print(\"첫 번째 문장: \", sentences[0])\n",
        "print(\"두 번째 문장: \", sentences[1])\n",
        "print(\"세 번째 문장: \", sentences[2])"
      ],
      "metadata": {
        "colab": {
          "base_uri": "https://localhost:8080/"
        },
        "id": "OHMhfPfdmM2y",
        "outputId": "2818d021-60b6-4b12-b61a-c5cce0c6b009"
      },
      "execution_count": null,
      "outputs": [
        {
          "output_type": "stream",
          "name": "stdout",
          "text": [
            "첫 번째 문장:  ['plot', ':', 'two', 'teen', 'couples', 'go', 'to', 'a', 'church', 'party', ',', 'drink', 'and', 'then', 'drive', '.']\n",
            "두 번째 문장:  ['they', 'get', 'into', 'an', 'accident', '.']\n",
            "세 번째 문장:  ['one', 'of', 'the', 'guys', 'dies', ',', 'but', 'his', 'girlfriend', 'continues', 'to', 'see', 'him', 'in', 'her', 'life', ',', 'and', 'has', 'nightmares', '.']\n"
          ]
        }
      ]
    },
    {
      "cell_type": "code",
      "source": [
        "from gensim.models.word2vec import Word2Vec"
      ],
      "metadata": {
        "id": "RVLOWBUvuYnv"
      },
      "execution_count": null,
      "outputs": []
    },
    {
      "cell_type": "code",
      "source": [
        "model = Word2Vec(\n",
        "    sentences, # 훈련 데이터\n",
        "    size=100, # 임베딩되는 feature 차원, 밀집벡터 사용 -> 사용자가 지정한 벡터 안에서 임의의 숫자 배열을 갖도록 -> 메모리 효율적으로 사용\n",
        "    window=3, # 앞, 뒤 참고한 window size\n",
        "    min_count=2, # 최소 몇 개 이상의 단어만 학습 (빈도 수)\n",
        "    sg=0 # 0:CBOW, 1: Skip-gram // Skip-gram 주로 사용함\n",
        "         # CBOW : 주변 단어로부터 중심 단어 예측, Skip-gram : 중심 단어로부터 주변 단어 예측\n",
        ")"
      ],
      "metadata": {
        "id": "g09VyKmtlqEC"
      },
      "execution_count": null,
      "outputs": []
    },
    {
      "cell_type": "code",
      "source": [
        "model.wv[\"boy\"] # 100개의 숫자 배열 <- vector값 100으로 지정했기 때문"
      ],
      "metadata": {
        "colab": {
          "base_uri": "https://localhost:8080/"
        },
        "id": "8Hh8JzL9nPY9",
        "outputId": "f96350e2-9935-436a-b922-0e400704f11d"
      },
      "execution_count": null,
      "outputs": [
        {
          "output_type": "execute_result",
          "data": {
            "text/plain": [
              "array([ 0.0463526 ,  0.05596686,  1.1658499 ,  0.5400762 ,  0.13365205,\n",
              "        0.43064526,  0.13295141,  0.65371543,  0.33217227,  0.39363936,\n",
              "       -0.07707359,  0.09118541,  0.07962697, -0.91490304,  0.0456378 ,\n",
              "        0.36086625, -0.30720994, -0.65494657, -0.53855294,  0.42119512,\n",
              "       -0.7573053 ,  0.29289842, -0.2886416 ,  0.5051814 ,  0.12439121,\n",
              "        0.16358955, -0.31083193,  1.0014738 , -0.3030906 ,  0.2974461 ,\n",
              "        0.5291058 , -0.6910716 , -0.6946477 ,  0.7125345 ,  0.18510821,\n",
              "        0.11375406,  0.18526042, -0.53266776,  0.14899991,  0.3395304 ,\n",
              "        0.9702873 ,  0.47977647,  0.54670686,  0.12127947, -0.8249509 ,\n",
              "       -0.36043286,  0.2240911 , -0.19096334, -0.67729527,  0.11651582,\n",
              "       -0.44727987, -0.07245578,  0.20716858, -0.7326417 , -0.0569933 ,\n",
              "        1.2967694 ,  0.4261544 ,  0.4887854 ,  0.3707642 ,  1.0475495 ,\n",
              "       -0.10580218,  0.09402613,  0.8971952 ,  0.41660914,  0.2685957 ,\n",
              "       -0.06385669, -0.9313789 ,  0.0587494 , -0.42318323,  0.9230769 ,\n",
              "       -0.03600235,  0.02866624, -0.6562678 , -1.254899  , -0.4111573 ,\n",
              "       -0.25047973,  0.1153912 , -0.56478566, -0.35785294, -0.36493236,\n",
              "       -0.0210667 , -0.23243348,  0.10804738,  0.35998702, -0.45276138,\n",
              "        0.36190638, -0.00284737,  0.42794442, -0.41580892,  0.41407606,\n",
              "       -0.03368377,  0.17794307,  0.24914011, -0.13988106, -0.33146462,\n",
              "        0.6924122 ,  0.11265457,  0.06871668, -0.15964833, -1.0419009 ],\n",
              "      dtype=float32)"
            ]
          },
          "metadata": {},
          "execution_count": 47
        }
      ]
    },
    {
      "cell_type": "code",
      "source": [
        "model.wv[\"girl\"]"
      ],
      "metadata": {
        "colab": {
          "base_uri": "https://localhost:8080/"
        },
        "id": "WHLndH10rQGf",
        "outputId": "d3c932e0-850f-443e-de92-abd762c69c1f"
      },
      "execution_count": null,
      "outputs": [
        {
          "output_type": "execute_result",
          "data": {
            "text/plain": [
              "array([-0.03649522, -0.00327964,  1.4233825 ,  0.7627118 ,  0.39884672,\n",
              "        0.71130526,  0.2781    ,  0.91277575,  0.511855  ,  0.41531423,\n",
              "       -0.12712017,  0.2538655 ,  0.12975343, -0.6790647 ,  0.23330514,\n",
              "        0.5912425 , -0.408721  , -0.37012   , -0.5851437 ,  0.40776592,\n",
              "       -0.85477185,  0.25165856, -0.04436597,  0.67325115,  0.00438202,\n",
              "       -0.19666697, -0.16747472,  1.0922521 , -0.34229648,  0.5135737 ,\n",
              "        0.57664096, -0.5778033 , -1.0124462 ,  0.36500064, -0.2573582 ,\n",
              "        0.10307404,  0.00931444, -0.8045313 ,  0.2112147 , -0.1712776 ,\n",
              "        1.0118613 ,  0.84924716,  0.8369726 ,  0.38378933, -0.7703763 ,\n",
              "       -0.16486397,  0.4162946 ,  0.34581313, -0.65272415,  0.0431638 ,\n",
              "       -0.67846507,  0.25960073,  0.36354893, -1.1931562 , -0.17079467,\n",
              "        1.4210279 ,  0.584593  ,  0.5923619 ,  0.20477338,  0.82583505,\n",
              "       -0.2759219 ,  0.28943646,  0.9383572 ,  0.01815724,  0.03284256,\n",
              "        0.13842168, -1.0658996 , -0.14645818, -0.40409532,  1.0191358 ,\n",
              "        0.24428852,  0.07352407, -0.806354  , -1.1777003 , -0.2827701 ,\n",
              "       -0.5100598 ,  0.26104993, -0.71091056, -0.43360722, -0.08785263,\n",
              "       -0.23769955, -0.05163677,  0.30185682,  0.26393536, -0.20779586,\n",
              "        0.16880335,  0.20161583,  0.75690293, -0.57366395,  0.35114482,\n",
              "        0.55806905, -0.01626723,  0.18392007,  0.03354443, -0.27015075,\n",
              "        0.7303832 , -0.15530899,  0.10962597,  0.21605495, -1.1490648 ],\n",
              "      dtype=float32)"
            ]
          },
          "metadata": {},
          "execution_count": 48
        }
      ]
    },
    {
      "cell_type": "code",
      "source": [
        "model.wv.most_similar('boy') # boy와 연관된 단어 찾아줌"
      ],
      "metadata": {
        "colab": {
          "base_uri": "https://localhost:8080/"
        },
        "id": "DY6OLkSElq3K",
        "outputId": "2acb4040-8262-42b0-b232-af9181cd227e"
      },
      "execution_count": null,
      "outputs": [
        {
          "output_type": "execute_result",
          "data": {
            "text/plain": [
              "[('girl', 0.922755241394043),\n",
              " ('woman', 0.8658361434936523),\n",
              " ('kid', 0.841556191444397),\n",
              " ('man', 0.8287143707275391),\n",
              " ('lady', 0.814577579498291),\n",
              " ('cop', 0.813148021697998),\n",
              " ('lawyer', 0.8074744343757629),\n",
              " ('dog', 0.8045105934143066),\n",
              " ('doctor', 0.8012827634811401),\n",
              " ('child', 0.7958991527557373)]"
            ]
          },
          "metadata": {},
          "execution_count": 49
        }
      ]
    },
    {
      "cell_type": "code",
      "source": [
        "model.save(\"/content/drive/MyDrive/study.model\")"
      ],
      "metadata": {
        "id": "iyMT-pxdlvuz"
      },
      "execution_count": null,
      "outputs": []
    },
    {
      "cell_type": "code",
      "source": [
        "model1 = Word2Vec.load('/content/drive/MyDrive/study.model')\n",
        "# 이전에 사전 훈련시켰던 모델 로드해서 다음에 사용할 수 O"
      ],
      "metadata": {
        "id": "V2hORXvksTA9"
      },
      "execution_count": null,
      "outputs": []
    },
    {
      "cell_type": "code",
      "source": [
        "model1.wv['boy']"
      ],
      "metadata": {
        "colab": {
          "base_uri": "https://localhost:8080/"
        },
        "id": "o6RyFMG8tikN",
        "outputId": "65ff3056-05d3-4f6a-b953-dd7917a40acf"
      },
      "execution_count": null,
      "outputs": [
        {
          "output_type": "execute_result",
          "data": {
            "text/plain": [
              "array([ 0.0463526 ,  0.05596686,  1.1658499 ,  0.5400762 ,  0.13365205,\n",
              "        0.43064526,  0.13295141,  0.65371543,  0.33217227,  0.39363936,\n",
              "       -0.07707359,  0.09118541,  0.07962697, -0.91490304,  0.0456378 ,\n",
              "        0.36086625, -0.30720994, -0.65494657, -0.53855294,  0.42119512,\n",
              "       -0.7573053 ,  0.29289842, -0.2886416 ,  0.5051814 ,  0.12439121,\n",
              "        0.16358955, -0.31083193,  1.0014738 , -0.3030906 ,  0.2974461 ,\n",
              "        0.5291058 , -0.6910716 , -0.6946477 ,  0.7125345 ,  0.18510821,\n",
              "        0.11375406,  0.18526042, -0.53266776,  0.14899991,  0.3395304 ,\n",
              "        0.9702873 ,  0.47977647,  0.54670686,  0.12127947, -0.8249509 ,\n",
              "       -0.36043286,  0.2240911 , -0.19096334, -0.67729527,  0.11651582,\n",
              "       -0.44727987, -0.07245578,  0.20716858, -0.7326417 , -0.0569933 ,\n",
              "        1.2967694 ,  0.4261544 ,  0.4887854 ,  0.3707642 ,  1.0475495 ,\n",
              "       -0.10580218,  0.09402613,  0.8971952 ,  0.41660914,  0.2685957 ,\n",
              "       -0.06385669, -0.9313789 ,  0.0587494 , -0.42318323,  0.9230769 ,\n",
              "       -0.03600235,  0.02866624, -0.6562678 , -1.254899  , -0.4111573 ,\n",
              "       -0.25047973,  0.1153912 , -0.56478566, -0.35785294, -0.36493236,\n",
              "       -0.0210667 , -0.23243348,  0.10804738,  0.35998702, -0.45276138,\n",
              "        0.36190638, -0.00284737,  0.42794442, -0.41580892,  0.41407606,\n",
              "       -0.03368377,  0.17794307,  0.24914011, -0.13988106, -0.33146462,\n",
              "        0.6924122 ,  0.11265457,  0.06871668, -0.15964833, -1.0419009 ],\n",
              "      dtype=float32)"
            ]
          },
          "metadata": {},
          "execution_count": 52
        }
      ]
    },
    {
      "cell_type": "code",
      "source": [],
      "metadata": {
        "id": "v2uKhzuXttsC"
      },
      "execution_count": null,
      "outputs": []
    }
  ]
}