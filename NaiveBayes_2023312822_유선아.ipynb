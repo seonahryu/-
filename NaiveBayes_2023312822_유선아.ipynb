{
  "nbformat": 4,
  "nbformat_minor": 0,
  "metadata": {
    "colab": {
      "provenance": []
    },
    "kernelspec": {
      "display_name": "Python 3",
      "language": "python",
      "name": "python3"
    },
    "language_info": {
      "codemirror_mode": {
        "name": "ipython",
        "version": 3
      },
      "file_extension": ".py",
      "mimetype": "text/x-python",
      "name": "python",
      "nbconvert_exporter": "python",
      "pygments_lexer": "ipython3",
      "version": "3.7.3"
    }
  },
  "cells": [
    {
      "cell_type": "markdown",
      "metadata": {
        "id": "3x4OwaSIR50l"
      },
      "source": [
        "## Naive Bayes\n",
        "- 베이즈 정리 + featuer 간 독립 가정\n",
        "\n",
        "- 출처 : 딥러닝을 이용한 자연어 처리 입문"
      ]
    },
    {
      "cell_type": "markdown",
      "source": [
        "데이터 이해"
      ],
      "metadata": {
        "id": "1YPnmFQoBaQp"
      }
    },
    {
      "cell_type": "code",
      "metadata": {
        "id": "j3z-zKXoRmWB",
        "colab": {
          "base_uri": "https://localhost:8080/"
        },
        "outputId": "478ef3a4-ac71-400d-a3de-f25a7b072f27"
      },
      "source": [
        "from sklearn.datasets import fetch_20newsgroups\n",
        "# Sklearn 의 Twenty Newsgroups 이라는 18,846개 뉴스 그룹 데이터 사용\n",
        "# 해당 데이터는 train 11,314개, test 7,532개로 분류되어 있음\n",
        "\n",
        "newsdata=fetch_20newsgroups(subset='train')\n",
        "# Data Download : subset='all', 'train', 'test'\n",
        "\n",
        "print(newsdata.keys())"
      ],
      "execution_count": null,
      "outputs": [
        {
          "output_type": "stream",
          "name": "stdout",
          "text": [
            "dict_keys(['data', 'filenames', 'target_names', 'target', 'DESCR'])\n"
          ]
        }
      ]
    },
    {
      "cell_type": "code",
      "source": [
        "print (len(newsdata.data), len(newsdata.filenames), len(newsdata.target_names), len(newsdata.target))\n",
        "## 모르는 data 쓸 때, 데이터 개수 확인하기 (모델 학습 중간중간 확인해주기 추천)"
      ],
      "metadata": {
        "colab": {
          "base_uri": "https://localhost:8080/"
        },
        "id": "wJtpm32QBDlr",
        "outputId": "2faaa158-543a-4ab0-896d-9adea7ecfc77"
      },
      "execution_count": null,
      "outputs": [
        {
          "output_type": "stream",
          "name": "stdout",
          "text": [
            "11314 11314 20 11314\n"
          ]
        }
      ]
    },
    {
      "cell_type": "code",
      "source": [
        "print(newsdata.target_names)\n",
        "# 20개 카테고리 이름 출력 (모르는 data 살펴보기)"
      ],
      "metadata": {
        "colab": {
          "base_uri": "https://localhost:8080/"
        },
        "id": "U3kZ58zIBEnl",
        "outputId": "af93a1ee-745d-47a2-e40e-eef687f2b3f7"
      },
      "execution_count": null,
      "outputs": [
        {
          "output_type": "stream",
          "name": "stdout",
          "text": [
            "['alt.atheism', 'comp.graphics', 'comp.os.ms-windows.misc', 'comp.sys.ibm.pc.hardware', 'comp.sys.mac.hardware', 'comp.windows.x', 'misc.forsale', 'rec.autos', 'rec.motorcycles', 'rec.sport.baseball', 'rec.sport.hockey', 'sci.crypt', 'sci.electronics', 'sci.med', 'sci.space', 'soc.religion.christian', 'talk.politics.guns', 'talk.politics.mideast', 'talk.politics.misc', 'talk.religion.misc']\n"
          ]
        }
      ]
    },
    {
      "cell_type": "code",
      "source": [
        "print(newsdata.target[0])\n",
        "# 첫번째 샘플이 7번 카테고리에 속하는 데이터임을 확인 (모르는 data 살펴보기)"
      ],
      "metadata": {
        "colab": {
          "base_uri": "https://localhost:8080/"
        },
        "id": "b70rDuiFBGB8",
        "outputId": "f6878264-8f9e-45d0-ad3b-8fff234b35a7"
      },
      "execution_count": null,
      "outputs": [
        {
          "output_type": "stream",
          "name": "stdout",
          "text": [
            "7\n"
          ]
        }
      ]
    },
    {
      "cell_type": "code",
      "source": [
        "print(newsdata.target_names[7])\n",
        "# 7번 카테고리 이름은 rec.autos (모르는 data 살펴보기)"
      ],
      "metadata": {
        "colab": {
          "base_uri": "https://localhost:8080/"
        },
        "id": "jfAobUBxBQlQ",
        "outputId": "e155933b-fc33-41fa-a062-cbdeb6cd61e0"
      },
      "execution_count": null,
      "outputs": [
        {
          "output_type": "stream",
          "name": "stdout",
          "text": [
            "rec.autos\n"
          ]
        }
      ]
    },
    {
      "cell_type": "code",
      "source": [
        "print(newsdata.data[0])\n",
        "# 첫 번째 샘플 데이터 출력하여 내용 확인 - 스포츠카에 관한 설명, 자연어 데이터"
      ],
      "metadata": {
        "colab": {
          "base_uri": "https://localhost:8080/"
        },
        "id": "m1waizyzBV9b",
        "outputId": "48d22530-4413-483d-d4fb-efb4b43b0a78"
      },
      "execution_count": null,
      "outputs": [
        {
          "output_type": "stream",
          "name": "stdout",
          "text": [
            "From: lerxst@wam.umd.edu (where's my thing)\n",
            "Subject: WHAT car is this!?\n",
            "Nntp-Posting-Host: rac3.wam.umd.edu\n",
            "Organization: University of Maryland, College Park\n",
            "Lines: 15\n",
            "\n",
            " I was wondering if anyone out there could enlighten me on this car I saw\n",
            "the other day. It was a 2-door sports car, looked to be from the late 60s/\n",
            "early 70s. It was called a Bricklin. The doors were really small. In addition,\n",
            "the front bumper was separate from the rest of the body. This is \n",
            "all I know. If anyone can tellme a model name, engine specs, years\n",
            "of production, where this car is made, history, or whatever info you\n",
            "have on this funky looking car, please e-mail.\n",
            "\n",
            "Thanks,\n",
            "- IL\n",
            "   ---- brought to you by your neighborhood Lerxst ----\n",
            "\n",
            "\n",
            "\n",
            "\n",
            "\n"
          ]
        }
      ]
    },
    {
      "cell_type": "markdown",
      "source": [
        "나이브 베이즈 분류"
      ],
      "metadata": {
        "id": "ixQaj_HfBe34"
      }
    },
    {
      "cell_type": "code",
      "source": [
        "from sklearn.feature_extraction.text import CountVectorizer\n",
        "from sklearn.feature_extraction.text import TfidfVectorizer\n",
        "from sklearn.naive_bayes import MultinomialNB\n",
        "from sklearn.metrics import accuracy_score"
      ],
      "metadata": {
        "id": "c7LRaif3BXcd"
      },
      "execution_count": null,
      "outputs": []
    },
    {
      "cell_type": "code",
      "source": [
        "dtmvector = CountVectorizer()\n",
        "# 텍스트 데이터를 BoW로 만드는 CountVectorizer 라이브러리 사용\n",
        "# 단어 순서 고려X, 문서 내에 단어의 등장 횟수를 고려하여 BoW vector 생성\n",
        "# 각 단어에 index 지정 후, 각 단어의 등장 횟수를 index에 맞게 배치\n",
        "# ex) 나는 학교에 가고싶은데 너는 학교에 갈거야? // vocab=['나':0, '는':1, '학교':2, ] (단어리스트) // BoW=[1, 2, 2, ] (단어 등장 횟수)\n",
        "\n",
        "X_train_dtm = dtmvector.fit_transform(newsdata.data)\n",
        "# fit_transform() 메서드로 fit과 transform 한 번에 처리\n",
        "\n",
        "print(X_train_dtm.shape)\n",
        "# train dataset 개수 11314, 등장한 단어수 130107"
      ],
      "metadata": {
        "colab": {
          "base_uri": "https://localhost:8080/"
        },
        "id": "BmW8DVGjBgu2",
        "outputId": "38331ef8-8148-4967-a52e-0bdf54658edc"
      },
      "execution_count": null,
      "outputs": [
        {
          "output_type": "stream",
          "name": "stdout",
          "text": [
            "(11314, 130107)\n"
          ]
        }
      ]
    },
    {
      "cell_type": "code",
      "source": [
        "tfidfvector = TfidfVectorizer()\n",
        "# TF-IDF (Term Frequency Inverse Document Frequency)는 단어의 빈도와 역 문서 빈도의 값을 사용하여 단어들마다 중요한 \"가중치\"를 주는 방식\n",
        "# TF : 특성 문서 d에서 특정 단어 t의 등장 횟수 (단어 빈도값)\n",
        "# DF : 특정 단어 t가 등장한 문서의 수 -> IDF : DF의 반비례 값 // DF 크면 IDF 작음 -> 중요 가중치 낮음 (ex: a, the)\n",
        "X_train_tfidf = tfidfvector.fit_transform(newsdata.data)\n",
        "print(X_train_tfidf.shape)"
      ],
      "metadata": {
        "colab": {
          "base_uri": "https://localhost:8080/"
        },
        "id": "XJQsMhl-Ah9T",
        "outputId": "cebabae3-acc0-4bdf-811e-fcab74234827"
      },
      "execution_count": null,
      "outputs": [
        {
          "output_type": "stream",
          "name": "stdout",
          "text": [
            "(11314, 130107)\n"
          ]
        }
      ]
    },
    {
      "cell_type": "code",
      "source": [
        "mod = MultinomialNB(alpha=1.0)\n",
        "# Multinomial NB는 데이터 특징이 출현 횟수로 표현 (20개 newsdata 분류 -> 범주형 변수)\n",
        "\n",
        "# 설명 변수가 연속형 변수일 때, Gaussian NB\n",
        "# 설명 변수가 범주형 변수일 때, Multinomial NB\n",
        "# 범주형인데, 이진형인 경우 Bernoulli NB\n",
        "\n",
        "# alpha=1.0 : 모델 복잡도 조절 파라미터\n",
        "# alpha 가 주어지면, 모든 특성에 양의 값을 가진 가상의 data를 alpha개만큼 추가 (smoothing -> prob.=! 0 되도록 분모에 상수항 더해줌)\n",
        "mod.fit(X_train_tfidf, newsdata.target)"
      ],
      "metadata": {
        "colab": {
          "base_uri": "https://localhost:8080/",
          "height": 75
        },
        "id": "29qyYjvjBkpQ",
        "outputId": "d1a4b5c3-3b37-403f-9839-4c5195448c2f"
      },
      "execution_count": null,
      "outputs": [
        {
          "output_type": "execute_result",
          "data": {
            "text/plain": [
              "MultinomialNB()"
            ],
            "text/html": [
              "<style>#sk-container-id-1 {color: black;background-color: white;}#sk-container-id-1 pre{padding: 0;}#sk-container-id-1 div.sk-toggleable {background-color: white;}#sk-container-id-1 label.sk-toggleable__label {cursor: pointer;display: block;width: 100%;margin-bottom: 0;padding: 0.3em;box-sizing: border-box;text-align: center;}#sk-container-id-1 label.sk-toggleable__label-arrow:before {content: \"▸\";float: left;margin-right: 0.25em;color: #696969;}#sk-container-id-1 label.sk-toggleable__label-arrow:hover:before {color: black;}#sk-container-id-1 div.sk-estimator:hover label.sk-toggleable__label-arrow:before {color: black;}#sk-container-id-1 div.sk-toggleable__content {max-height: 0;max-width: 0;overflow: hidden;text-align: left;background-color: #f0f8ff;}#sk-container-id-1 div.sk-toggleable__content pre {margin: 0.2em;color: black;border-radius: 0.25em;background-color: #f0f8ff;}#sk-container-id-1 input.sk-toggleable__control:checked~div.sk-toggleable__content {max-height: 200px;max-width: 100%;overflow: auto;}#sk-container-id-1 input.sk-toggleable__control:checked~label.sk-toggleable__label-arrow:before {content: \"▾\";}#sk-container-id-1 div.sk-estimator input.sk-toggleable__control:checked~label.sk-toggleable__label {background-color: #d4ebff;}#sk-container-id-1 div.sk-label input.sk-toggleable__control:checked~label.sk-toggleable__label {background-color: #d4ebff;}#sk-container-id-1 input.sk-hidden--visually {border: 0;clip: rect(1px 1px 1px 1px);clip: rect(1px, 1px, 1px, 1px);height: 1px;margin: -1px;overflow: hidden;padding: 0;position: absolute;width: 1px;}#sk-container-id-1 div.sk-estimator {font-family: monospace;background-color: #f0f8ff;border: 1px dotted black;border-radius: 0.25em;box-sizing: border-box;margin-bottom: 0.5em;}#sk-container-id-1 div.sk-estimator:hover {background-color: #d4ebff;}#sk-container-id-1 div.sk-parallel-item::after {content: \"\";width: 100%;border-bottom: 1px solid gray;flex-grow: 1;}#sk-container-id-1 div.sk-label:hover label.sk-toggleable__label {background-color: #d4ebff;}#sk-container-id-1 div.sk-serial::before {content: \"\";position: absolute;border-left: 1px solid gray;box-sizing: border-box;top: 0;bottom: 0;left: 50%;z-index: 0;}#sk-container-id-1 div.sk-serial {display: flex;flex-direction: column;align-items: center;background-color: white;padding-right: 0.2em;padding-left: 0.2em;position: relative;}#sk-container-id-1 div.sk-item {position: relative;z-index: 1;}#sk-container-id-1 div.sk-parallel {display: flex;align-items: stretch;justify-content: center;background-color: white;position: relative;}#sk-container-id-1 div.sk-item::before, #sk-container-id-1 div.sk-parallel-item::before {content: \"\";position: absolute;border-left: 1px solid gray;box-sizing: border-box;top: 0;bottom: 0;left: 50%;z-index: -1;}#sk-container-id-1 div.sk-parallel-item {display: flex;flex-direction: column;z-index: 1;position: relative;background-color: white;}#sk-container-id-1 div.sk-parallel-item:first-child::after {align-self: flex-end;width: 50%;}#sk-container-id-1 div.sk-parallel-item:last-child::after {align-self: flex-start;width: 50%;}#sk-container-id-1 div.sk-parallel-item:only-child::after {width: 0;}#sk-container-id-1 div.sk-dashed-wrapped {border: 1px dashed gray;margin: 0 0.4em 0.5em 0.4em;box-sizing: border-box;padding-bottom: 0.4em;background-color: white;}#sk-container-id-1 div.sk-label label {font-family: monospace;font-weight: bold;display: inline-block;line-height: 1.2em;}#sk-container-id-1 div.sk-label-container {text-align: center;}#sk-container-id-1 div.sk-container {/* jupyter's `normalize.less` sets `[hidden] { display: none; }` but bootstrap.min.css set `[hidden] { display: none !important; }` so we also need the `!important` here to be able to override the default hidden behavior on the sphinx rendered scikit-learn.org. See: https://github.com/scikit-learn/scikit-learn/issues/21755 */display: inline-block !important;position: relative;}#sk-container-id-1 div.sk-text-repr-fallback {display: none;}</style><div id=\"sk-container-id-1\" class=\"sk-top-container\"><div class=\"sk-text-repr-fallback\"><pre>MultinomialNB()</pre><b>In a Jupyter environment, please rerun this cell to show the HTML representation or trust the notebook. <br />On GitHub, the HTML representation is unable to render, please try loading this page with nbviewer.org.</b></div><div class=\"sk-container\" hidden><div class=\"sk-item\"><div class=\"sk-estimator sk-toggleable\"><input class=\"sk-toggleable__control sk-hidden--visually\" id=\"sk-estimator-id-1\" type=\"checkbox\" checked><label for=\"sk-estimator-id-1\" class=\"sk-toggleable__label sk-toggleable__label-arrow\">MultinomialNB</label><div class=\"sk-toggleable__content\"><pre>MultinomialNB()</pre></div></div></div></div></div>"
            ]
          },
          "metadata": {},
          "execution_count": 10
        }
      ]
    },
    {
      "cell_type": "code",
      "source": [
        "newsdata_test = fetch_20newsgroups(subset='test', shuffle=True)\n",
        "X_test_dtm = dtmvector.transform(newsdata_test.data)\n",
        "tfidfv_test = tfidfvector.transform(newsdata_test.data)\n",
        "\n",
        "predicted = mod.predict(tfidfv_test)\n",
        "print(\"정확도:\", accuracy_score(newsdata_test.target, predicted))\n",
        "# newssata_test.target = y 와 predicted = y^ (y햇) 비교해서 정확도 파악\n",
        "\n",
        "## 같은 data라도 어떤 모델을 사용하느냐에 따라서 정확도 다르므로, 여러 모델 사용해서 비교함으로써 최적의 알고리즘 찾기"
      ],
      "metadata": {
        "colab": {
          "base_uri": "https://localhost:8080/"
        },
        "id": "7m6z7f6GBnhI",
        "outputId": "d5fa6e0b-2ea7-4d20-d28e-b21906122b1e"
      },
      "execution_count": null,
      "outputs": [
        {
          "output_type": "stream",
          "name": "stdout",
          "text": [
            "정확도: 0.7738980350504514\n"
          ]
        }
      ]
    },
    {
      "cell_type": "code",
      "source": [],
      "metadata": {
        "id": "9ErFlF6gBpPg"
      },
      "execution_count": null,
      "outputs": []
    }
  ]
}